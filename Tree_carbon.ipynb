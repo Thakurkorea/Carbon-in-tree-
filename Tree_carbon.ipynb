{
  "nbformat": 4,
  "nbformat_minor": 0,
  "metadata": {
    "colab": {
      "provenance": []
    },
    "kernelspec": {
      "name": "python3",
      "display_name": "Python 3"
    },
    "language_info": {
      "name": "python"
    }
  },
  "cells": [
    {
      "cell_type": "code",
      "execution_count": 1,
      "metadata": {
        "colab": {
          "base_uri": "https://localhost:8080/"
        },
        "id": "DSdCmrOQq5y2",
        "outputId": "f61098fc-ef63-40b2-b5a6-dc663092c7dd"
      },
      "outputs": [
        {
          "output_type": "stream",
          "name": "stdout",
          "text": [
            "Tree 1: DBH = 10 cm\n",
            "  Biomass = 31.62 kg\n",
            "  Carbon = 15.81 kg\n",
            "  CO2 Sequestered = 57.98 kg\n",
            "\n",
            "Tree 2: DBH = 15 cm\n",
            "  Biomass = 87.14 kg\n",
            "  Carbon = 43.57 kg\n",
            "  CO2 Sequestered = 159.76 kg\n",
            "\n",
            "Tree 3: DBH = 20 cm\n",
            "  Biomass = 178.89 kg\n",
            "  Carbon = 89.44 kg\n",
            "  CO2 Sequestered = 327.96 kg\n",
            "\n",
            "Tree 4: DBH = 25 cm\n",
            "  Biomass = 312.50 kg\n",
            "  Carbon = 156.25 kg\n",
            "  CO2 Sequestered = 572.92 kg\n",
            "\n",
            "Tree 5: DBH = 30 cm\n",
            "  Biomass = 492.95 kg\n",
            "  Carbon = 246.48 kg\n",
            "  CO2 Sequestered = 903.74 kg\n",
            "\n",
            "Total Carbon Sequestered by all trees: 551.55 kg\n",
            "Total CO2 Sequestered by all trees: 2022.35 kg\n"
          ]
        }
      ],
      "source": [
        "# Import necessary library\n",
        "import numpy as np\n",
        "\n",
        "# Example data: Diameter at Breast Height (DBH) of trees in cm\n",
        "dbhs = np.array([10, 15, 20, 25, 30])  # DBH for each tree in cm\n",
        "\n",
        "# Allometric equation coefficients for biomass estimation (species-specific)\n",
        "a = 0.1  # Coefficient a\n",
        "b = 2.5  # Exponent b\n",
        "\n",
        "# Calculate biomass for each tree using the allometric equation\n",
        "biomass_kg = a * (dbhs ** b)  # Biomass in kilograms\n",
        "\n",
        "# Convert biomass to carbon content (assuming 50% of biomass is carbon)\n",
        "carbon_kg = biomass_kg * 0.5  # Carbon in kilograms\n",
        "\n",
        "# Convert carbon content to CO2 sequestered using the molecular weight ratio\n",
        "co2_kg = carbon_kg * (44 / 12)  # CO2 in kilograms\n",
        "\n",
        "# Output the results\n",
        "for i, dbh in enumerate(dbhs):\n",
        "    print(f\"Tree {i+1}: DBH = {dbh} cm\")\n",
        "    print(f\"  Biomass = {biomass_kg[i]:.2f} kg\")\n",
        "    print(f\"  Carbon = {carbon_kg[i]:.2f} kg\")\n",
        "    print(f\"  CO2 Sequestered = {co2_kg[i]:.2f} kg\\n\")\n",
        "\n",
        "# Calculate total carbon and CO2 sequestered for all trees\n",
        "total_carbon_kg = carbon_kg.sum()\n",
        "total_co2_kg = co2_kg.sum()\n",
        "\n",
        "print(f\"Total Carbon Sequestered by all trees: {total_carbon_kg:.2f} kg\")\n",
        "print(f\"Total CO2 Sequestered by all trees: {total_co2_kg:.2f} kg\")\n"
      ]
    }
  ]
}